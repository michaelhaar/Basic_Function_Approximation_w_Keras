{
 "cells": [
  {
   "cell_type": "markdown",
   "metadata": {},
   "source": [
    "# Basic Function Approximation with Neural Nets\n",
    "\n",
    "In this notebook we'll fit or approximate a simple function like f(x)=sine(x) with a neural network. (f(x) is considered as ground truth and is assumed to be unknown)."
   ]
  },
  {
   "cell_type": "markdown",
   "metadata": {},
   "source": [
    "## Import Dependencies\n",
    "We'll need the following dependencies"
   ]
  },
  {
   "cell_type": "code",
   "execution_count": 2,
   "metadata": {},
   "outputs": [
    {
     "name": "stderr",
     "output_type": "stream",
     "text": [
      "Using TensorFlow backend.\n"
     ]
    }
   ],
   "source": [
    "import numpy as np\n",
    "# Our de facto standard library for all deep learning projects, because of it's matrix multiplication capabilities\n",
    "\n",
    "from keras.models import Sequential\n",
    "# In Keras the simplest type of model is the Sequential model, a linear stack of layers\n",
    "\n",
    "from keras.layers import Dense\n",
    "from keras import optimizers\n",
    "\n",
    "import matplotlib.pyplot as plt\n",
    "# We'll use matplotlib for generating figures and visualizations"
   ]
  },
  {
   "cell_type": "markdown",
   "metadata": {},
   "source": [
    "## Create the training data\n",
    "TODO: add some descriptive text"
   ]
  },
  {
   "cell_type": "code",
   "execution_count": 3,
   "metadata": {
    "scrolled": true
   },
   "outputs": [
    {
     "data": {
      "image/png": "[encoded data removed]",
      "text/plain": [
       "<matplotlib.figure.Figure at 0x7f899f79d9e8>"
      ]
     },
     "metadata": {},
     "output_type": "display_data"
    }
   ],
   "source": [
    "NUM_EXAMPLES= 1000\n",
    "TRAIN_SPLIT = .8\n",
    "\n",
    "function_to_learn = lambda x: np.sin(4*np.pi*x) # this is the function that the neural network should learn\n",
    "noise = lambda x: 0.1*np.random.randn(*x.shape)\n",
    "\n",
    "# create input data samples\n",
    "all_x = np.float32(np.random.uniform(0, 1, (1, NUM_EXAMPLES))).T\n",
    "\n",
    "# split into training and testing set\n",
    "train_size = int(NUM_EXAMPLES*TRAIN_SPLIT)\n",
    "trainx = all_x[:train_size]\n",
    "testx = all_x[train_size:]\n",
    "\n",
    "# generate the output data samples\n",
    "trainy = function_to_learn(trainx) + noise(trainx)\n",
    "testy = function_to_learn(testx) + noise(testx)\n",
    "\n",
    "# visualization\n",
    "plt.scatter(trainx, trainy, c='b', label='Training Set')\n",
    "plt.scatter(testx, testy, c='r', label='Testing Set')\n",
    "plt.xlabel('Input x')\n",
    "plt.ylabel('Output of f(x)')\n",
    "plt.grid(True)\n",
    "plt.legend()\n",
    "plt.show()"
   ]
  },
  {
   "cell_type": "markdown",
   "metadata": {},
   "source": [
    "## Create the model\n",
    "The next step is to build our neural model using Keras"
   ]
  },
  {
   "cell_type": "code",
   "execution_count": 8,
   "metadata": {},
   "outputs": [],
   "source": [
    "\n",
    "# In Keras the simplest type of model is the Sequential model, a linear stack of laye\n",
    "model = Sequential()\n",
    "\n",
    "# Add some dense or fully-connected hidden layers\n",
    "model.add(Dense(50, activation='sigmoid', input_shape=(1,)))\n",
    "model.add(Dense(50, activation='sigmoid'))\n",
    "\n",
    "# Add the output layer\n",
    "model.add(Dense(1, activation='sigmoid'))\n",
    "\n",
    "# Before training a model, you need to configure the learning process, which is done via the compile method\n",
    "sgd = optimizers.SGD(lr=0.001, decay=1e-6, momentum=0.9, nesterov=True)\n",
    "model.compile(loss='mse', optimizer=sgd)"
   ]
  },
  {
   "cell_type": "markdown",
   "metadata": {},
   "source": [
    "## Train the model"
   ]
  },
  {
   "cell_type": "code",
   "execution_count": 9,
   "metadata": {},
   "outputs": [
    {
     "name": "stdout",
     "output_type": "stream",
     "text": [
      "Epoch 1/100\n",
      "800/800 [==============================] - 0s 124us/step - loss: 0.7144\n",
      "Epoch 2/100\n",
      "800/800 [==============================] - 0s 29us/step - loss: 0.6889\n",
      "Epoch 3/100\n",
      "800/800 [==============================] - 0s 30us/step - loss: 0.6578\n",
      "Epoch 4/100\n",
      "800/800 [==============================] - 0s 37us/step - loss: 0.6307\n",
      "Epoch 5/100\n",
      "800/800 [==============================] - 0s 29us/step - loss: 0.6096\n",
      "Epoch 6/100\n",
      "800/800 [==============================] - 0s 25us/step - loss: 0.5935\n",
      "Epoch 7/100\n",
      "800/800 [==============================] - 0s 24us/step - loss: 0.5827\n",
      "Epoch 8/100\n",
      "800/800 [==============================] - 0s 35us/step - loss: 0.5747\n",
      "Epoch 9/100\n",
      "800/800 [==============================] - 0s 35us/step - loss: 0.5684\n",
      "Epoch 10/100\n",
      "800/800 [==============================] - 0s 33us/step - loss: 0.5634\n",
      "Epoch 11/100\n",
      "800/800 [==============================] - 0s 37us/step - loss: 0.5597\n",
      "Epoch 12/100\n",
      "800/800 [==============================] - 0s 38us/step - loss: 0.5568\n",
      "Epoch 13/100\n",
      "800/800 [==============================] - 0s 38us/step - loss: 0.5543\n",
      "Epoch 14/100\n",
      "800/800 [==============================] - 0s 37us/step - loss: 0.5524\n",
      "Epoch 15/100\n",
      "800/800 [==============================] - 0s 37us/step - loss: 0.5505\n",
      "Epoch 16/100\n",
      "800/800 [==============================] - 0s 34us/step - loss: 0.5490\n",
      "Epoch 17/100\n",
      "800/800 [==============================] - 0s 33us/step - loss: 0.5476\n",
      "Epoch 18/100\n",
      "800/800 [==============================] - 0s 38us/step - loss: 0.5465\n",
      "Epoch 19/100\n",
      "800/800 [==============================] - 0s 36us/step - loss: 0.5455\n",
      "Epoch 20/100\n",
      "800/800 [==============================] - 0s 35us/step - loss: 0.5445\n",
      "Epoch 21/100\n",
      "800/800 [==============================] - 0s 35us/step - loss: 0.5438\n",
      "Epoch 22/100\n",
      "800/800 [==============================] - 0s 38us/step - loss: 0.5429\n",
      "Epoch 23/100\n",
      "800/800 [==============================] - 0s 36us/step - loss: 0.5423\n",
      "Epoch 24/100\n",
      "800/800 [==============================] - 0s 29us/step - loss: 0.5417\n",
      "Epoch 25/100\n",
      "800/800 [==============================] - 0s 35us/step - loss: 0.5411\n",
      "Epoch 26/100\n",
      "800/800 [==============================] - 0s 27us/step - loss: 0.5407\n",
      "Epoch 27/100\n",
      "800/800 [==============================] - 0s 30us/step - loss: 0.5402\n",
      "Epoch 28/100\n",
      "800/800 [==============================] - 0s 35us/step - loss: 0.5397\n",
      "Epoch 29/100\n",
      "800/800 [==============================] - 0s 31us/step - loss: 0.5393\n",
      "Epoch 30/100\n",
      "800/800 [==============================] - 0s 32us/step - loss: 0.5389\n",
      "Epoch 31/100\n",
      "800/800 [==============================] - 0s 35us/step - loss: 0.5385\n",
      "Epoch 32/100\n",
      "800/800 [==============================] - 0s 32us/step - loss: 0.5382\n",
      "Epoch 33/100\n",
      "800/800 [==============================] - 0s 32us/step - loss: 0.5379\n",
      "Epoch 34/100\n",
      "800/800 [==============================] - 0s 30us/step - loss: 0.5376\n",
      "Epoch 35/100\n",
      "800/800 [==============================] - 0s 29us/step - loss: 0.5373\n",
      "Epoch 36/100\n",
      "800/800 [==============================] - 0s 31us/step - loss: 0.5371\n",
      "Epoch 37/100\n",
      "800/800 [==============================] - 0s 38us/step - loss: 0.5368\n",
      "Epoch 38/100\n",
      "800/800 [==============================] - 0s 34us/step - loss: 0.5366\n",
      "Epoch 39/100\n",
      "800/800 [==============================] - 0s 33us/step - loss: 0.5363\n",
      "Epoch 40/100\n",
      "800/800 [==============================] - 0s 30us/step - loss: 0.5361\n",
      "Epoch 41/100\n",
      "800/800 [==============================] - 0s 23us/step - loss: 0.5359\n",
      "Epoch 42/100\n",
      "800/800 [==============================] - 0s 27us/step - loss: 0.5357\n",
      "Epoch 43/100\n",
      "800/800 [==============================] - 0s 32us/step - loss: 0.5355\n",
      "Epoch 44/100\n",
      "800/800 [==============================] - 0s 29us/step - loss: 0.5353\n",
      "Epoch 45/100\n",
      "800/800 [==============================] - 0s 23us/step - loss: 0.5352\n",
      "Epoch 46/100\n",
      "800/800 [==============================] - 0s 33us/step - loss: 0.5350\n",
      "Epoch 47/100\n",
      "800/800 [==============================] - 0s 34us/step - loss: 0.5349\n",
      "Epoch 48/100\n",
      "800/800 [==============================] - 0s 32us/step - loss: 0.5347\n",
      "Epoch 49/100\n",
      "800/800 [==============================] - 0s 41us/step - loss: 0.5346\n",
      "Epoch 50/100\n",
      "800/800 [==============================] - 0s 31us/step - loss: 0.5345\n",
      "Epoch 51/100\n",
      "800/800 [==============================] - 0s 30us/step - loss: 0.5343\n",
      "Epoch 52/100\n",
      "800/800 [==============================] - 0s 31us/step - loss: 0.5342\n",
      "Epoch 53/100\n",
      "800/800 [==============================] - 0s 31us/step - loss: 0.5341\n",
      "Epoch 54/100\n",
      "800/800 [==============================] - 0s 27us/step - loss: 0.5340\n",
      "Epoch 55/100\n",
      "800/800 [==============================] - 0s 29us/step - loss: 0.5339\n",
      "Epoch 56/100\n",
      "800/800 [==============================] - 0s 29us/step - loss: 0.5338\n",
      "Epoch 57/100\n",
      "800/800 [==============================] - 0s 28us/step - loss: 0.5337\n",
      "Epoch 58/100\n",
      "800/800 [==============================] - 0s 37us/step - loss: 0.5336\n",
      "Epoch 59/100\n",
      "800/800 [==============================] - 0s 29us/step - loss: 0.5335\n",
      "Epoch 60/100\n",
      "800/800 [==============================] - 0s 32us/step - loss: 0.5335\n",
      "Epoch 61/100\n",
      "800/800 [==============================] - 0s 28us/step - loss: 0.5334\n",
      "Epoch 62/100\n",
      "800/800 [==============================] - 0s 34us/step - loss: 0.5333\n",
      "Epoch 63/100\n",
      "800/800 [==============================] - 0s 31us/step - loss: 0.5332\n",
      "Epoch 64/100\n",
      "800/800 [==============================] - 0s 37us/step - loss: 0.5332\n",
      "Epoch 65/100\n",
      "800/800 [==============================] - 0s 30us/step - loss: 0.5331\n",
      "Epoch 66/100\n",
      "800/800 [==============================] - 0s 29us/step - loss: 0.5330\n",
      "Epoch 67/100\n",
      "800/800 [==============================] - 0s 38us/step - loss: 0.5329\n",
      "Epoch 68/100\n",
      "800/800 [==============================] - 0s 29us/step - loss: 0.5329\n",
      "Epoch 69/100\n",
      "800/800 [==============================] - 0s 28us/step - loss: 0.5328\n",
      "Epoch 70/100\n",
      "800/800 [==============================] - 0s 37us/step - loss: 0.5327\n",
      "Epoch 71/100\n",
      "800/800 [==============================] - 0s 38us/step - loss: 0.5327\n",
      "Epoch 72/100\n",
      "800/800 [==============================] - 0s 40us/step - loss: 0.5326\n",
      "Epoch 73/100\n",
      "800/800 [==============================] - 0s 34us/step - loss: 0.5325\n",
      "Epoch 74/100\n",
      "800/800 [==============================] - 0s 29us/step - loss: 0.5325\n",
      "Epoch 75/100\n",
      "800/800 [==============================] - 0s 30us/step - loss: 0.5324\n",
      "Epoch 76/100\n",
      "800/800 [==============================] - 0s 31us/step - loss: 0.5324\n",
      "Epoch 77/100\n",
      "800/800 [==============================] - 0s 35us/step - loss: 0.5323\n",
      "Epoch 78/100\n",
      "800/800 [==============================] - 0s 32us/step - loss: 0.5323\n",
      "Epoch 79/100\n",
      "800/800 [==============================] - 0s 31us/step - loss: 0.5322\n",
      "Epoch 80/100\n",
      "800/800 [==============================] - 0s 34us/step - loss: 0.5322\n",
      "Epoch 81/100\n",
      "800/800 [==============================] - 0s 37us/step - loss: 0.5321\n",
      "Epoch 82/100\n",
      "800/800 [==============================] - 0s 39us/step - loss: 0.5321\n",
      "Epoch 83/100\n",
      "800/800 [==============================] - 0s 36us/step - loss: 0.5320\n",
      "Epoch 84/100\n",
      "800/800 [==============================] - 0s 36us/step - loss: 0.5320\n",
      "Epoch 85/100\n",
      "800/800 [==============================] - 0s 37us/step - loss: 0.5320\n",
      "Epoch 86/100\n",
      "800/800 [==============================] - 0s 27us/step - loss: 0.5319\n",
      "Epoch 87/100\n",
      "800/800 [==============================] - 0s 36us/step - loss: 0.5319\n",
      "Epoch 88/100\n",
      "800/800 [==============================] - 0s 33us/step - loss: 0.5318\n",
      "Epoch 89/100\n",
      "800/800 [==============================] - 0s 31us/step - loss: 0.5318\n",
      "Epoch 90/100\n",
      "800/800 [==============================] - 0s 29us/step - loss: 0.5318\n",
      "Epoch 91/100\n",
      "800/800 [==============================] - 0s 34us/step - loss: 0.5317\n",
      "Epoch 92/100\n",
      "800/800 [==============================] - 0s 30us/step - loss: 0.5317\n",
      "Epoch 93/100\n",
      "800/800 [==============================] - 0s 27us/step - loss: 0.5317\n",
      "Epoch 94/100\n",
      "800/800 [==============================] - 0s 21us/step - loss: 0.5316\n",
      "Epoch 95/100\n",
      "800/800 [==============================] - 0s 25us/step - loss: 0.5316\n",
      "Epoch 96/100\n",
      "800/800 [==============================] - 0s 27us/step - loss: 0.5315\n",
      "Epoch 97/100\n",
      "800/800 [==============================] - 0s 28us/step - loss: 0.5315\n",
      "Epoch 98/100\n"
     ]
    },
    {
     "name": "stdout",
     "output_type": "stream",
     "text": [
      "800/800 [==============================] - 0s 29us/step - loss: 0.5315\n",
      "Epoch 99/100\n",
      "800/800 [==============================] - 0s 34us/step - loss: 0.5315\n",
      "Epoch 100/100\n",
      "800/800 [==============================] - 0s 27us/step - loss: 0.5314\n"
     ]
    },
    {
     "data": {
      "text/plain": [
       "<keras.callbacks.History at 0x7f899d741588>"
      ]
     },
     "execution_count": 9,
     "metadata": {},
     "output_type": "execute_result"
    }
   ],
   "source": [
    "model.fit(trainx, trainy, epochs=100, batch_size=128, verbose=1)"
   ]
  },
  {
   "cell_type": "markdown",
   "metadata": {},
   "source": [
    "## How does it perform?\n",
    "At the current stage, the NN is not giving me any usefull predictions :("
   ]
  },
  {
   "cell_type": "code",
   "execution_count": 10,
   "metadata": {
    "scrolled": false
   },
   "outputs": [
    {
     "data": {
      "image/png": "[encoded data removed]",
      "text/plain": [
       "<matplotlib.figure.Figure at 0x7f89974a6cc0>"
      ]
     },
     "metadata": {},
     "output_type": "display_data"
    }
   ],
   "source": [
    "plt.scatter(trainx, model.predict(trainx))\n",
    "x = np.linspace(0,1)\n",
    "plt.plot(x, function_to_learn(x), c='r')\n",
    "plt.grid(True)\n",
    "plt.show()"
   ]
  },
  {
   "cell_type": "markdown",
   "metadata": {},
   "source": [
    "## Validation"
   ]
  },
  {
   "cell_type": "code",
   "execution_count": 11,
   "metadata": {},
   "outputs": [
    {
     "data": {
      "image/png": "[encoded data removed]",
      "text/plain": [
       "<matplotlib.figure.Figure at 0x7f8994187a20>"
      ]
     },
     "metadata": {},
     "output_type": "display_data"
    }
   ],
   "source": [
    "# Use this code only for validation!! :o\n",
    "plt.scatter(testx, model.predict(testx), c='g')\n",
    "plt.plot(x, function_to_learn(x), c='b')\n",
    "plt.grid(True)\n",
    "plt.show()"
   ]
  },
  {
   "cell_type": "code",
   "execution_count": null,
   "metadata": {},
   "outputs": [],
   "source": []
  }
 ],
 "metadata": {
  "kernelspec": {
   "display_name": "Python 3",
   "language": "python",
   "name": "python3"
  },
  "language_info": {
   "codemirror_mode": {
    "name": "ipython",
    "version": 3
   },
   "file_extension": ".py",
   "mimetype": "text/x-python",
   "name": "python",
   "nbconvert_exporter": "python",
   "pygments_lexer": "ipython3",
   "version": "3.5.2"
  }
 },
 "nbformat": 4,
 "nbformat_minor": 2
}
